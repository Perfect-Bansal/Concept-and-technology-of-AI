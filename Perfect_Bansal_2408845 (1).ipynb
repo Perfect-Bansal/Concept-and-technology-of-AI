{
  "nbformat": 4,
  "nbformat_minor": 0,
  "metadata": {
    "colab": {
      "provenance": []
    },
    "kernelspec": {
      "name": "python3",
      "display_name": "Python 3"
    },
    "language_info": {
      "name": "python"
    }
  },
  "cells": [
    {
      "cell_type": "code",
      "execution_count": null,
      "metadata": {
        "id": "0NoRnkX0il85"
      },
      "outputs": [],
      "source": [
        "#Perfect Bansal"
      ]
    },
    {
      "cell_type": "markdown",
      "source": [
        "Task 4\n",
        "Problem 1"
      ],
      "metadata": {
        "id": "_p7QgssmjuwW"
      }
    },
    {
      "cell_type": "code",
      "source": [
        "#2*2 matrix\n",
        "import numpy as np\n",
        "\n",
        "empty_array = np.empty((2, 2))\n",
        "print(empty_array)\n"
      ],
      "metadata": {
        "colab": {
          "base_uri": "https://localhost:8080/"
        },
        "id": "Z2Fg-De5jtKp",
        "outputId": "214ece8a-85c8-43e2-e325-46a0efdd3ecd"
      },
      "execution_count": 1,
      "outputs": [
        {
          "output_type": "stream",
          "name": "stdout",
          "text": [
            "[[5.02683033e-310 0.00000000e+000]\n",
            " [6.64131254e-310 6.64131200e-310]]\n"
          ]
        }
      ]
    },
    {
      "cell_type": "code",
      "source": [
        "#array with size 4X2\n",
        "import numpy as np\n",
        "ones_array = np.ones((4, 2))\n",
        "print(ones_array)\n"
      ],
      "metadata": {
        "colab": {
          "base_uri": "https://localhost:8080/"
        },
        "id": "hHgGTTnLkHhF",
        "outputId": "c6bb1cdf-d447-48d3-c9ba-b93f4d5502d9"
      },
      "execution_count": 4,
      "outputs": [
        {
          "output_type": "stream",
          "name": "stdout",
          "text": [
            "[[1. 1.]\n",
            " [1. 1.]\n",
            " [1. 1.]\n",
            " [1. 1.]]\n"
          ]
        }
      ]
    },
    {
      "cell_type": "code",
      "source": [
        "3.\n",
        "import numpy as np\n",
        "array = np.full((3, 3), 7)\n",
        "print(array)\n"
      ],
      "metadata": {
        "colab": {
          "base_uri": "https://localhost:8080/"
        },
        "id": "pS-UV1HPkUwJ",
        "outputId": "fb7220b3-2b7f-46b0-f34f-904f50c1a3c1"
      },
      "execution_count": 6,
      "outputs": [
        {
          "output_type": "stream",
          "name": "stdout",
          "text": [
            "[[7 7 7]\n",
            " [7 7 7]\n",
            " [7 7 7]]\n"
          ]
        }
      ]
    },
    {
      "cell_type": "code",
      "source": [
        "#4.\n",
        "import numpy as np\n",
        "given = np.array([[1, 2], [3, 4]])\n",
        "zeros = np.zeros_like(given)\n",
        "print(zeros)\n"
      ],
      "metadata": {
        "colab": {
          "base_uri": "https://localhost:8080/"
        },
        "id": "PGmmkDrRkk16",
        "outputId": "50a8cd36-dcf5-42db-a163-1b9cc688afba"
      },
      "execution_count": 9,
      "outputs": [
        {
          "output_type": "stream",
          "name": "stdout",
          "text": [
            "[[0 0]\n",
            " [0 0]]\n"
          ]
        }
      ]
    },
    {
      "cell_type": "code",
      "source": [
        "#5.\n",
        "import numpy as np\n",
        "array = np.ones_like(given)\n",
        "print(array)\n"
      ],
      "metadata": {
        "colab": {
          "base_uri": "https://localhost:8080/"
        },
        "id": "efWOa-o5k7hs",
        "outputId": "846939c7-a9fc-4951-80c4-a0ecab1af985"
      },
      "execution_count": 10,
      "outputs": [
        {
          "output_type": "stream",
          "name": "stdout",
          "text": [
            "[[1 1]\n",
            " [1 1]]\n"
          ]
        }
      ]
    },
    {
      "cell_type": "code",
      "source": [
        "#6.\n",
        "import numpy as np\n",
        "new_list = [1, 2, 3, 4]\n",
        "array = np.array(new_list)\n",
        "print(array)\n"
      ],
      "metadata": {
        "colab": {
          "base_uri": "https://localhost:8080/"
        },
        "id": "UFsern6VlbCs",
        "outputId": "60f8eb66-1962-48a1-bcef-5c3b455bec66"
      },
      "execution_count": 11,
      "outputs": [
        {
          "output_type": "stream",
          "name": "stdout",
          "text": [
            "[1 2 3 4]\n"
          ]
        }
      ]
    },
    {
      "cell_type": "markdown",
      "source": [
        "Problem 2"
      ],
      "metadata": {
        "id": "s7dlSMFOlrb_"
      }
    },
    {
      "cell_type": "code",
      "source": [
        "#1.\n",
        "import numpy as np\n",
        "\n",
        "array = np.arange(10, 50)\n",
        "print(array)\n"
      ],
      "metadata": {
        "colab": {
          "base_uri": "https://localhost:8080/"
        },
        "id": "uyEcdVXHlmK1",
        "outputId": "960d7a51-b1cc-4600-8f26-44b7bf7ef5a0"
      },
      "execution_count": 12,
      "outputs": [
        {
          "output_type": "stream",
          "name": "stdout",
          "text": [
            "[10 11 12 13 14 15 16 17 18 19 20 21 22 23 24 25 26 27 28 29 30 31 32 33\n",
            " 34 35 36 37 38 39 40 41 42 43 44 45 46 47 48 49]\n"
          ]
        }
      ]
    },
    {
      "cell_type": "code",
      "source": [
        "#2\n",
        "import numpy as np\n",
        "matrix = np.arange(9).reshape(3, 3)\n",
        "print(matrix)\n"
      ],
      "metadata": {
        "colab": {
          "base_uri": "https://localhost:8080/"
        },
        "id": "Bc1DypMNmblV",
        "outputId": "a94bc385-4842-4d09-b1e9-84479084c3ba"
      },
      "execution_count": 13,
      "outputs": [
        {
          "output_type": "stream",
          "name": "stdout",
          "text": [
            "[[0 1 2]\n",
            " [3 4 5]\n",
            " [6 7 8]]\n"
          ]
        }
      ]
    },
    {
      "cell_type": "code",
      "source": [
        "#3\n",
        "import numpy as np\n",
        "identity_matrix = np.eye(3)\n",
        "print(identity_matrix)\n"
      ],
      "metadata": {
        "colab": {
          "base_uri": "https://localhost:8080/"
        },
        "id": "kNi9IZA0muKN",
        "outputId": "8cc4c085-8c3c-4379-b0e7-b392428d178b"
      },
      "execution_count": 14,
      "outputs": [
        {
          "output_type": "stream",
          "name": "stdout",
          "text": [
            "[[1. 0. 0.]\n",
            " [0. 1. 0.]\n",
            " [0. 0. 1.]]\n"
          ]
        }
      ]
    },
    {
      "cell_type": "code",
      "source": [
        "#4\n",
        "import numpy as np\n",
        "random_arr = np.random.random(30)\n",
        "mean = random_arr.mean()\n",
        "print(\"Mean of the array:\", mean)\n"
      ],
      "metadata": {
        "colab": {
          "base_uri": "https://localhost:8080/"
        },
        "id": "Oss177Lum4jz",
        "outputId": "e097f0a3-a9d8-4ae5-e18b-8975e2718fc9"
      },
      "execution_count": 15,
      "outputs": [
        {
          "output_type": "stream",
          "name": "stdout",
          "text": [
            "Mean of the array: 0.38259534833528475\n"
          ]
        }
      ]
    },
    {
      "cell_type": "code",
      "source": [
        "#5\n",
        "import numpy as np\n",
        "array = np.random.rand(100)\n",
        "answer = array.reshape(10,10)\n",
        "max = max(array)\n",
        "min = min(array)\n",
        "print(answer)\n",
        "print(f\"the maximum value is: {max}\")\n",
        "print(f\"the minimum value is: {min}\")\n",
        "\n"
      ],
      "metadata": {
        "colab": {
          "base_uri": "https://localhost:8080/"
        },
        "id": "SCcvowMInIQg",
        "outputId": "f750e654-ce77-45c9-a6eb-9031b1b43324"
      },
      "execution_count": 23,
      "outputs": [
        {
          "output_type": "stream",
          "name": "stdout",
          "text": [
            "[[0.02851524 0.92097696 0.45494917 0.94424238 0.9412925  0.74461007\n",
            "  0.80234552 0.99325993 0.35281497 0.79115284]\n",
            " [0.77842894 0.55084351 0.66136137 0.12682408 0.92200713 0.28696696\n",
            "  0.19113337 0.60061596 0.04066249 0.53488421]\n",
            " [0.82792157 0.31824664 0.4084949  0.79927882 0.33555322 0.98093065\n",
            "  0.42131054 0.1235187  0.40870991 0.17569395]\n",
            " [0.37301289 0.1500723  0.30844242 0.30966735 0.63583895 0.15305245\n",
            "  0.93742683 0.83666403 0.62982152 0.71696216]\n",
            " [0.81505331 0.52999873 0.39764172 0.96190517 0.04704766 0.58417543\n",
            "  0.25179107 0.27510833 0.81114176 0.23391387]\n",
            " [0.99831678 0.49005481 0.66751994 0.28065045 0.96189322 0.33407772\n",
            "  0.40793186 0.29929259 0.55312548 0.55280063]\n",
            " [0.90094785 0.97673773 0.54617929 0.9253856  0.56010842 0.51370686\n",
            "  0.63263371 0.64954185 0.31642106 0.8530868 ]\n",
            " [0.3147763  0.9056361  0.9836737  0.34018981 0.43708073 0.63148681\n",
            "  0.7388108  0.74904138 0.27265157 0.66633666]\n",
            " [0.55178054 0.61749269 0.0226423  0.40482229 0.38857794 0.51158798\n",
            "  0.90563272 0.76775996 0.83373728 0.20861736]\n",
            " [0.93746369 0.51171218 0.81656662 0.10067561 0.48794515 0.32599841\n",
            "  0.31235107 0.99190468 0.37476979 0.16737473]]\n",
            "the maximum value is: 0.9983167805509178\n",
            "the minimum value is: 0.022642295606216778\n"
          ]
        }
      ]
    },
    {
      "cell_type": "code",
      "source": [
        "#6\n",
        "import numpy as np\n",
        "arr = np.zeros(10)\n",
        "arr[4] = 1\n",
        "print(arr)\n"
      ],
      "metadata": {
        "colab": {
          "base_uri": "https://localhost:8080/"
        },
        "id": "Hp5li58BnfAt",
        "outputId": "021f8738-34e0-4871-8e72-8d8be7ff296c"
      },
      "execution_count": 24,
      "outputs": [
        {
          "output_type": "stream",
          "name": "stdout",
          "text": [
            "[0. 0. 0. 0. 1. 0. 0. 0. 0. 0.]\n"
          ]
        }
      ]
    },
    {
      "cell_type": "code",
      "source": [
        "#7\n",
        "import numpy as np\n",
        "array = np.array([1, 2, 0, 0, 4, 0])\n",
        "reversed = array[::-1]\n",
        "print(reversed)\n"
      ],
      "metadata": {
        "colab": {
          "base_uri": "https://localhost:8080/"
        },
        "id": "shyJPMyCn7mz",
        "outputId": "809bc71c-d6e6-4f64-e5a8-2e716ea4339f"
      },
      "execution_count": 19,
      "outputs": [
        {
          "output_type": "stream",
          "name": "stdout",
          "text": [
            "[0 4 0 0 2 1]\n"
          ]
        }
      ]
    },
    {
      "cell_type": "code",
      "source": [
        "#8\n",
        "import numpy as np\n",
        "array = np.ones((5, 5))\n",
        "array[1:-1, 1:-1] = 0\n",
        "print(array)\n"
      ],
      "metadata": {
        "colab": {
          "base_uri": "https://localhost:8080/"
        },
        "id": "vxjTkuMEoN0n",
        "outputId": "cbc986f7-2169-4037-ddb5-78d42e5c28ad"
      },
      "execution_count": 20,
      "outputs": [
        {
          "output_type": "stream",
          "name": "stdout",
          "text": [
            "[[1. 1. 1. 1. 1.]\n",
            " [1. 0. 0. 0. 1.]\n",
            " [1. 0. 0. 0. 1.]\n",
            " [1. 0. 0. 0. 1.]\n",
            " [1. 1. 1. 1. 1.]]\n"
          ]
        }
      ]
    },
    {
      "cell_type": "code",
      "source": [
        "#9\n",
        "import numpy as np\n",
        "\n",
        "checkerboard = np.zeros((8, 8))\n",
        "\n",
        "for i in range(8):\n",
        "    for j in range(8):\n",
        "        if (i + j) % 2 == 0:\n",
        "            checkerboard[i, j] = 1\n",
        "        else:\n",
        "            checkerboard[i, j] = 0\n",
        "\n",
        "print(checkerboard)\n"
      ],
      "metadata": {
        "colab": {
          "base_uri": "https://localhost:8080/"
        },
        "id": "jdIWxGgvobuL",
        "outputId": "11b1b536-ff44-4d75-b45e-ff2ae1b7b30b"
      },
      "execution_count": 25,
      "outputs": [
        {
          "output_type": "stream",
          "name": "stdout",
          "text": [
            "[[1. 0. 1. 0. 1. 0. 1. 0.]\n",
            " [0. 1. 0. 1. 0. 1. 0. 1.]\n",
            " [1. 0. 1. 0. 1. 0. 1. 0.]\n",
            " [0. 1. 0. 1. 0. 1. 0. 1.]\n",
            " [1. 0. 1. 0. 1. 0. 1. 0.]\n",
            " [0. 1. 0. 1. 0. 1. 0. 1.]\n",
            " [1. 0. 1. 0. 1. 0. 1. 0.]\n",
            " [0. 1. 0. 1. 0. 1. 0. 1.]]\n"
          ]
        }
      ]
    },
    {
      "cell_type": "markdown",
      "source": [
        "problem 3"
      ],
      "metadata": {
        "id": "C_okhclTpcNX"
      }
    },
    {
      "cell_type": "code",
      "source": [
        "#!\n",
        "import numpy as np\n",
        "\n",
        "# Given arrays\n",
        "x = np.array([[1, 2], [3, 5]])\n",
        "y = np.array([[5, 6], [7, 8]])\n",
        "v = np.array([9, 10])\n",
        "w = np.array([11, 12])\n",
        "\n",
        "#Add\n",
        "add = x + y\n",
        "print(\"Addition of x and y:\\n\", add)\n",
        "\n",
        "#Subtract\n",
        "subtract = x - y\n",
        "print(\"Subtraction of x and y:\\n\", subtract)\n",
        "\n",
        "#Multiply\n",
        "multiply = x * 2\n",
        "print(\"Multiplication of x by 2:\\n\", multiply)\n",
        "\n",
        "# square of each element\n",
        "square= x ** 2\n",
        "print(\"Square of each element of x:\\n\", square)\n",
        "\n",
        "#dot product between:\n",
        "# v and w\n",
        "dot_vw = np.dot(v, w)\n",
        "print(\"Dot product of v and w:\", dot_vw)\n",
        "\n",
        "# x and v\n",
        "dot_xv = np.dot(x, v)\n",
        "print(\"Dot product of x and v:\\n\", dot_xv)\n",
        "\n",
        "# x and y\n",
        "dot_xy = np.dot(x, y)\n",
        "print(\"Dot product of x and y:\\n\", dot_xy)\n",
        "\n",
        "#Concatenate x and y along rows and v and w along columns\n",
        "xy_row = np.concatenate((x, y), axis=0)\n",
        "print(\"Concatenation of x and y along rows:\\n\",xy_row)\n",
        "\n",
        "vw_col = np.concatenate((v[:, np.newaxis], w[:, np.newaxis]), axis=1)\n",
        "print(\"Concatenation of v and w along columns:\\n\", vw_col)\n"
      ],
      "metadata": {
        "colab": {
          "base_uri": "https://localhost:8080/"
        },
        "id": "YvC1wSTfpSxk",
        "outputId": "7fac09bc-549e-40a9-b6f9-0301a398d1c3"
      },
      "execution_count": 26,
      "outputs": [
        {
          "output_type": "stream",
          "name": "stdout",
          "text": [
            "Addition of x and y:\n",
            " [[ 6  8]\n",
            " [10 13]]\n",
            "Subtraction of x and y:\n",
            " [[-4 -4]\n",
            " [-4 -3]]\n",
            "Multiplication of x by 2:\n",
            " [[ 2  4]\n",
            " [ 6 10]]\n",
            "Square of each element of x:\n",
            " [[ 1  4]\n",
            " [ 9 25]]\n",
            "Dot product of v and w: 219\n",
            "Dot product of x and v:\n",
            " [29 77]\n",
            "Dot product of x and y:\n",
            " [[19 22]\n",
            " [50 58]]\n",
            "Concatenation of x and y along rows:\n",
            " [[1 2]\n",
            " [3 5]\n",
            " [5 6]\n",
            " [7 8]]\n",
            "Concatenation of v and w along columns:\n",
            " [[ 9 11]\n",
            " [10 12]]\n"
          ]
        }
      ]
    },
    {
      "cell_type": "markdown",
      "source": [
        "Probmem 4"
      ],
      "metadata": {
        "id": "LE1Yh9A6su8m"
      }
    },
    {
      "cell_type": "code",
      "source": [
        "#1\n",
        "A = np.array([[3,4],[7,8]])\n",
        "B = np.array([[5,3],[2,1]])\n",
        "inverse = np.linalg.inv(A)\n",
        "mul = np.dot(A ,inverse)\n",
        "print(mul)"
      ],
      "metadata": {
        "colab": {
          "base_uri": "https://localhost:8080/"
        },
        "id": "BeZhWRb4qP2Y",
        "outputId": "22bb0a60-02d9-4c24-cf9e-f623045a47f5"
      },
      "execution_count": 27,
      "outputs": [
        {
          "output_type": "stream",
          "name": "stdout",
          "text": [
            "[[1.00000000e+00 0.00000000e+00]\n",
            " [1.77635684e-15 1.00000000e+00]]\n"
          ]
        }
      ]
    },
    {
      "cell_type": "code",
      "source": [
        "#2\n",
        "A = np.array([[3,4],[7,8]])\n",
        "B = np.array([[5,3],[2,1]])\n",
        "product1 = np.dot(A,B)\n",
        "product2 = np.dot(B,A)\n",
        "comparison = product1 == product2\n",
        "print(comparison)"
      ],
      "metadata": {
        "colab": {
          "base_uri": "https://localhost:8080/"
        },
        "id": "uFutueqstGDN",
        "outputId": "55936347-7c1a-41b9-94d2-97ea4478fe20"
      },
      "execution_count": 28,
      "outputs": [
        {
          "output_type": "stream",
          "name": "stdout",
          "text": [
            "[[False False]\n",
            " [False False]]\n"
          ]
        }
      ]
    },
    {
      "cell_type": "code",
      "source": [
        "#3\n",
        "A = np.array([[3,4],[7,8]])\n",
        "B = np.array([[5,3],[2,1]])\n",
        "product = np.dot(A,B)\n",
        "transpose = np.transpose(product)\n",
        "transpose1 = np.transpose(A)\n",
        "transpose2 = np.transpose(B)\n",
        "product1 = np.dot(transpose2,transpose1)\n",
        "comparison = transpose == product1\n",
        "print(comparison)"
      ],
      "metadata": {
        "colab": {
          "base_uri": "https://localhost:8080/"
        },
        "id": "_UpIleRXtL8_",
        "outputId": "f13999b5-7df2-418d-d862-efd8f3dc37a0"
      },
      "execution_count": 29,
      "outputs": [
        {
          "output_type": "stream",
          "name": "stdout",
          "text": [
            "[[ True  True]\n",
            " [ True  True]]\n"
          ]
        }
      ]
    },
    {
      "cell_type": "code",
      "source": [
        "#4\n",
        "import numpy as np\n",
        "A = np.array([[2, -3, 1],[1, -1, 2],[3, 1, -1]])\n",
        "B = np.array([-1, -3, 9])\n",
        "A_inv = np.linalg.inv(A)\n",
        "X = np.dot(A_inv, B)\n",
        "print(f\"the value of x y and z is: {X}\")\n"
      ],
      "metadata": {
        "colab": {
          "base_uri": "https://localhost:8080/"
        },
        "id": "Do_b1qBytUN7",
        "outputId": "fb5fa0de-1df6-4218-df69-de8e8c300431"
      },
      "execution_count": 30,
      "outputs": [
        {
          "output_type": "stream",
          "name": "stdout",
          "text": [
            "the value of x y and z is: [ 2.  1. -2.]\n"
          ]
        }
      ]
    },
    {
      "cell_type": "code",
      "source": [],
      "metadata": {
        "id": "G--AyNiLtfDp"
      },
      "execution_count": null,
      "outputs": []
    }
  ]
}